{
 "cells": [
  {
   "cell_type": "code",
   "execution_count": 1,
   "id": "75ed196d",
   "metadata": {
    "execution": {
     "iopub.execute_input": "2024-01-10T16:55:04.578878Z",
     "iopub.status.busy": "2024-01-10T16:55:04.578601Z",
     "iopub.status.idle": "2024-01-10T16:55:08.210088Z",
     "shell.execute_reply": "2024-01-10T16:55:08.208773Z"
    },
    "papermill": {
     "duration": 3.639361,
     "end_time": "2024-01-10T16:55:08.212194",
     "exception": false,
     "start_time": "2024-01-10T16:55:04.572833",
     "status": "completed"
    },
    "tags": []
   },
   "outputs": [
    {
     "name": "stdout",
     "output_type": "stream",
     "text": [
      "GPU is available.\n"
     ]
    }
   ],
   "source": [
    "import torch\n",
    "import torch.nn as nn\n",
    "from torchvision import transforms\n",
    "from torchvision.datasets import ImageFolder, DatasetFolder\n",
    "from torch.utils.data import Dataset, DataLoader\n",
    "import torchvision.models as models\n",
    "from glob import glob\n",
    "import gc\n",
    "import sys\n",
    "import numpy as np\n",
    "import matplotlib.pyplot as plt\n",
    "from tqdm import tqdm\n",
    "\n",
    "if torch.cuda.is_available():\n",
    "    device = torch.device(\"cuda\")  # using first available GPU\n",
    "    print(\"GPU is available.\")\n",
    "else:\n",
    "    device = torch.device(\"cpu\")\n",
    "    print(\"GPU is not available. Switching to CPU.\")"
   ]
  },
  {
   "cell_type": "code",
   "execution_count": 2,
   "id": "d71a58c6",
   "metadata": {
    "execution": {
     "iopub.execute_input": "2024-01-10T16:55:08.222935Z",
     "iopub.status.busy": "2024-01-10T16:55:08.222484Z",
     "iopub.status.idle": "2024-01-10T16:55:08.228606Z",
     "shell.execute_reply": "2024-01-10T16:55:08.227770Z"
    },
    "papermill": {
     "duration": 0.013486,
     "end_time": "2024-01-10T16:55:08.230536",
     "exception": false,
     "start_time": "2024-01-10T16:55:08.217050",
     "status": "completed"
    },
    "tags": []
   },
   "outputs": [],
   "source": [
    "# show images and labels\n",
    "def show_images(images, labels):\n",
    "    plt.figure(figsize=(12, 6))\n",
    "    for i in range(len(images)):\n",
    "        plt.subplot(4, 8, i + 1)\n",
    "        plt.imshow(images[i].permute(1, 2, 0))\n",
    "        plt.title(labels[labels[i]])\n",
    "        plt.axis('off')\n",
    "    plt.show()"
   ]
  },
  {
   "cell_type": "code",
   "execution_count": 3,
   "id": "481d6a24",
   "metadata": {
    "execution": {
     "iopub.execute_input": "2024-01-10T16:55:08.240587Z",
     "iopub.status.busy": "2024-01-10T16:55:08.239852Z",
     "iopub.status.idle": "2024-01-10T16:55:08.244532Z",
     "shell.execute_reply": "2024-01-10T16:55:08.243795Z"
    },
    "papermill": {
     "duration": 0.011425,
     "end_time": "2024-01-10T16:55:08.246351",
     "exception": false,
     "start_time": "2024-01-10T16:55:08.234926",
     "status": "completed"
    },
    "tags": []
   },
   "outputs": [],
   "source": [
    "# 定义数据变换\n",
    "transform = transforms.Compose([\n",
    "    transforms.Resize((224, 224)),\n",
    "    transforms.ToTensor(),\n",
    "    transforms.Normalize(mean=[0.485, 0.456, 0.406], std=[0.229, 0.224, 0.225])\n",
    "])"
   ]
  },
  {
   "cell_type": "code",
   "execution_count": 4,
   "id": "55f1b946",
   "metadata": {
    "execution": {
     "iopub.execute_input": "2024-01-10T16:55:08.256194Z",
     "iopub.status.busy": "2024-01-10T16:55:08.255700Z",
     "iopub.status.idle": "2024-01-10T16:55:18.509938Z",
     "shell.execute_reply": "2024-01-10T16:55:18.508999Z"
    },
    "papermill": {
     "duration": 10.261621,
     "end_time": "2024-01-10T16:55:18.512234",
     "exception": false,
     "start_time": "2024-01-10T16:55:08.250613",
     "status": "completed"
    },
    "tags": []
   },
   "outputs": [],
   "source": [
    "batch_size = 30\n",
    "# 加载图像数据集\n",
    "trainDataset = ImageFolder(root='/kaggle/input/7015-dataset/train/train', transform=transform)\n",
    "trainLoader = DataLoader(trainDataset, batch_size=batch_size, shuffle=False)\n",
    "testDataset = ImageFolder(root='/kaggle/input/7015-dataset/test/test', transform=transform)\n",
    "testLoader = DataLoader(testDataset, batch_size=batch_size, shuffle=False)\n",
    "labels = trainDataset.classes"
   ]
  },
  {
   "cell_type": "code",
   "execution_count": 5,
   "id": "d978129c",
   "metadata": {
    "execution": {
     "iopub.execute_input": "2024-01-10T16:55:18.522512Z",
     "iopub.status.busy": "2024-01-10T16:55:18.522220Z",
     "iopub.status.idle": "2024-01-10T16:55:18.570858Z",
     "shell.execute_reply": "2024-01-10T16:55:18.569985Z"
    },
    "papermill": {
     "duration": 0.055841,
     "end_time": "2024-01-10T16:55:18.572840",
     "exception": false,
     "start_time": "2024-01-10T16:55:18.516999",
     "status": "completed"
    },
    "tags": []
   },
   "outputs": [],
   "source": [
    "train_samples = torch.tensor([]).to(device)\n",
    "train_labels = torch.tensor([]).to(device)\n",
    "test_samples = torch.tensor([]).to(device)\n",
    "test_labels = torch.tensor([]).to(device)"
   ]
  },
  {
   "cell_type": "code",
   "execution_count": 6,
   "id": "43287e6b",
   "metadata": {
    "execution": {
     "iopub.execute_input": "2024-01-10T16:55:18.582844Z",
     "iopub.status.busy": "2024-01-10T16:55:18.582551Z",
     "iopub.status.idle": "2024-01-10T16:59:27.336586Z",
     "shell.execute_reply": "2024-01-10T16:59:27.335509Z"
    },
    "papermill": {
     "duration": 248.761594,
     "end_time": "2024-01-10T16:59:27.338864",
     "exception": false,
     "start_time": "2024-01-10T16:55:18.577270",
     "status": "completed"
    },
    "tags": []
   },
   "outputs": [
    {
     "name": "stderr",
     "output_type": "stream",
     "text": [
      "100%|██████████| 436/436 [03:19<00:00,  2.18it/s]\n",
      "100%|██████████| 109/109 [00:48<00:00,  2.23it/s]\n"
     ]
    }
   ],
   "source": [
    "for images, labels in tqdm(trainLoader):\n",
    "    images = images.to(device)\n",
    "    train_samples = torch.cat([train_samples, images.unsqueeze(0)], dim=0)\n",
    "    label = list(map(lambda x: x.split('_')[1], trainDataset.class_to_idx.keys()))[labels[0]]\n",
    "    if label == 'arm':\n",
    "        label = 0\n",
    "    else:\n",
    "        label = 1\n",
    "    train_labels = torch.cat([train_labels, torch.tensor(label).unsqueeze(0).to(device)], dim=0)\n",
    "\n",
    "for images, labels in tqdm(testLoader):\n",
    "    images = images.to(device)\n",
    "    test_samples = torch.cat([test_samples, images.unsqueeze(0)], dim=0)\n",
    "    label = list(map(lambda x: x.split('_')[1], testDataset.class_to_idx.keys()))[labels[0]]\n",
    "    if label == 'arm':\n",
    "        label = 0\n",
    "    else:\n",
    "        label = 1\n",
    "    test_labels = torch.cat([test_labels, torch.tensor(label).unsqueeze(0).to(device)], dim=0)\n"
   ]
  },
  {
   "cell_type": "code",
   "execution_count": 7,
   "id": "9d1d372f",
   "metadata": {
    "execution": {
     "iopub.execute_input": "2024-01-10T16:59:27.433839Z",
     "iopub.status.busy": "2024-01-10T16:59:27.433505Z",
     "iopub.status.idle": "2024-01-10T16:59:27.438972Z",
     "shell.execute_reply": "2024-01-10T16:59:27.438231Z"
    },
    "papermill": {
     "duration": 0.054849,
     "end_time": "2024-01-10T16:59:27.440733",
     "exception": false,
     "start_time": "2024-01-10T16:59:27.385884",
     "status": "completed"
    },
    "tags": []
   },
   "outputs": [],
   "source": [
    "class myDataset(Dataset):\n",
    "    def __init__(self, data, labels):\n",
    "        self.data = data\n",
    "        self.labels = labels\n",
    "\n",
    "    def __len__(self):\n",
    "        return len(self.data)\n",
    "\n",
    "    def __getitem__(self, index):\n",
    "        return self.data[index], self.labels[index]\n"
   ]
  },
  {
   "cell_type": "markdown",
   "id": "48836bbb",
   "metadata": {
    "papermill": {
     "duration": 0.047381,
     "end_time": "2024-01-10T16:59:27.578809",
     "exception": false,
     "start_time": "2024-01-10T16:59:27.531428",
     "status": "completed"
    },
    "tags": []
   },
   "source": [
    "1. **保留resnet的fc层，除此以外冻结 1000-d向量，与lstm模型连接进行权重更新**\n",
    "2. **删除fc层，仅做特征提取cnn，不冻结，resnet部分进行fine-tuning，与lstm模型连接进行权重更新**\n",
    "3. **与光流图（optical-flow）另外一个resnet提取，提取出的特征做向量拼接**"
   ]
  },
  {
   "cell_type": "code",
   "execution_count": 8,
   "id": "d2ed277b",
   "metadata": {
    "execution": {
     "iopub.execute_input": "2024-01-10T16:59:27.673467Z",
     "iopub.status.busy": "2024-01-10T16:59:27.673121Z",
     "iopub.status.idle": "2024-01-10T16:59:27.683133Z",
     "shell.execute_reply": "2024-01-10T16:59:27.682387Z"
    },
    "papermill": {
     "duration": 0.059533,
     "end_time": "2024-01-10T16:59:27.685116",
     "exception": false,
     "start_time": "2024-01-10T16:59:27.625583",
     "status": "completed"
    },
    "tags": []
   },
   "outputs": [],
   "source": [
    "import torch\n",
    "import torch.nn as nn\n",
    "import torchvision.models as models\n",
    "\n",
    "class CNNLSTM(nn.Module):\n",
    "    def __init__(self, num_classes, lstm_hidden_size, lstm_num_layers, lstm_input_size):\n",
    "        super(CNNLSTM, self).__init__()\n",
    "\n",
    "        # 加载预训练的ResNet模型\n",
    "        self.resnet = models.resnet18(pretrained=True)\n",
    "        # 移除ResNet的最后一个全连接层，用于特征提取\n",
    "        # self.resnet = nn.Sequential(*list(self.resnet.children())[:-1])\n",
    "        \n",
    "        for name, param in self.resnet.named_parameters():\n",
    "            if \"fc\" not in name:  # 不冻结全连接层的参数\n",
    "                param.requires_grad = False\n",
    "\n",
    "        # LSTM模型\n",
    "        self.lstm = nn.LSTM(input_size=lstm_input_size, hidden_size=lstm_hidden_size,\n",
    "                            num_layers=lstm_num_layers, batch_first=True)\n",
    "\n",
    "        # 全连接层，用于分类\n",
    "        self.fc = nn.Linear(lstm_hidden_size, num_classes)\n",
    "\n",
    "    def forward(self, x):\n",
    "        # x shape: (batch_size, num_frames, C, H, W)\n",
    "        batch_size, num_frames, C, H, W = x.size()\n",
    "\n",
    "        # 将每一帧通过CNN进行特征提取\n",
    "        cnn_features = torch.zeros(batch_size, num_frames, lstm_input_size).to(x.device)\n",
    "        for i in range(num_frames):\n",
    "            frame_features = self.resnet(x[:, i, :, :, :])\n",
    "            cnn_features[:, i, :] = frame_features.squeeze(-1).squeeze(-1)\n",
    "\n",
    "        # 将特征输入LSTM模型\n",
    "        lstm_out, _ = self.lstm(cnn_features)\n",
    "\n",
    "        # 取LSTM的最后一个时间步的输出\n",
    "        lstm_last_output = lstm_out[:, -1, :]\n",
    "\n",
    "        # 全连接层\n",
    "        output = self.fc(lstm_last_output)\n",
    "\n",
    "        return output\n"
   ]
  },
  {
   "cell_type": "code",
   "execution_count": 9,
   "id": "86d1fc40",
   "metadata": {
    "execution": {
     "iopub.execute_input": "2024-01-10T16:59:27.779980Z",
     "iopub.status.busy": "2024-01-10T16:59:27.779673Z",
     "iopub.status.idle": "2024-01-10T16:59:27.785439Z",
     "shell.execute_reply": "2024-01-10T16:59:27.784595Z"
    },
    "papermill": {
     "duration": 0.055451,
     "end_time": "2024-01-10T16:59:27.787527",
     "exception": false,
     "start_time": "2024-01-10T16:59:27.732076",
     "status": "completed"
    },
    "tags": []
   },
   "outputs": [],
   "source": [
    "lstm_batch_size = 8\n",
    "trainDataset = myDataset(train_samples, train_labels)\n",
    "trainLoader = DataLoader(trainDataset, batch_size=lstm_batch_size, shuffle=True)\n",
    "testDataset = myDataset(test_samples, test_labels)\n",
    "testLoader = DataLoader(testDataset, batch_size=lstm_batch_size, shuffle=False)"
   ]
  },
  {
   "cell_type": "code",
   "execution_count": 10,
   "id": "f8faa4aa",
   "metadata": {
    "execution": {
     "iopub.execute_input": "2024-01-10T16:59:27.883258Z",
     "iopub.status.busy": "2024-01-10T16:59:27.883006Z",
     "iopub.status.idle": "2024-01-10T16:59:27.895132Z",
     "shell.execute_reply": "2024-01-10T16:59:27.894162Z"
    },
    "papermill": {
     "duration": 0.062965,
     "end_time": "2024-01-10T16:59:27.897135",
     "exception": false,
     "start_time": "2024-01-10T16:59:27.834170",
     "status": "completed"
    },
    "tags": []
   },
   "outputs": [
    {
     "name": "stdout",
     "output_type": "stream",
     "text": [
      "torch.Size([8, 30, 3, 224, 224])\n"
     ]
    }
   ],
   "source": [
    "for inputs, labels in trainLoader:\n",
    "    print(inputs.shape)\n",
    "    break"
   ]
  },
  {
   "cell_type": "code",
   "execution_count": 11,
   "id": "d261a9de",
   "metadata": {
    "execution": {
     "iopub.execute_input": "2024-01-10T16:59:27.992193Z",
     "iopub.status.busy": "2024-01-10T16:59:27.991923Z",
     "iopub.status.idle": "2024-01-10T16:59:28.573238Z",
     "shell.execute_reply": "2024-01-10T16:59:28.572312Z"
    },
    "papermill": {
     "duration": 0.630741,
     "end_time": "2024-01-10T16:59:28.575545",
     "exception": false,
     "start_time": "2024-01-10T16:59:27.944804",
     "status": "completed"
    },
    "tags": []
   },
   "outputs": [
    {
     "name": "stderr",
     "output_type": "stream",
     "text": [
      "/opt/conda/lib/python3.10/site-packages/torchvision/models/_utils.py:208: UserWarning: The parameter 'pretrained' is deprecated since 0.13 and may be removed in the future, please use 'weights' instead.\n",
      "  warnings.warn(\n",
      "/opt/conda/lib/python3.10/site-packages/torchvision/models/_utils.py:223: UserWarning: Arguments other than a weight enum or `None` for 'weights' are deprecated since 0.13 and may be removed in the future. The current behavior is equivalent to passing `weights=ResNet18_Weights.IMAGENET1K_V1`. You can also use `weights=ResNet18_Weights.DEFAULT` to get the most up-to-date weights.\n",
      "  warnings.warn(msg)\n",
      "Downloading: \"https://download.pytorch.org/models/resnet18-f37072fd.pth\" to /root/.cache/torch/hub/checkpoints/resnet18-f37072fd.pth\n",
      "100%|██████████| 44.7M/44.7M [00:00<00:00, 266MB/s]\n"
     ]
    }
   ],
   "source": [
    "# 创建模型实例\n",
    "num_classes = 2 \n",
    "lstm_hidden_size = 4\n",
    "lstm_num_layers = 3\n",
    "lstm_input_size = 1000\n",
    "model = CNNLSTM(num_classes, lstm_hidden_size, lstm_num_layers, lstm_input_size)\n",
    "model.to(device)\n",
    "\n",
    "# 定义损失函数和优化器\n",
    "criterion = nn.CrossEntropyLoss()\n",
    "optimizer = torch.optim.AdamW(model.parameters(), lr=3e-4)"
   ]
  },
  {
   "cell_type": "code",
   "execution_count": 12,
   "id": "cb855002",
   "metadata": {
    "execution": {
     "iopub.execute_input": "2024-01-10T16:59:28.672880Z",
     "iopub.status.busy": "2024-01-10T16:59:28.672565Z",
     "iopub.status.idle": "2024-01-10T17:04:53.525502Z",
     "shell.execute_reply": "2024-01-10T17:04:53.524373Z"
    },
    "papermill": {
     "duration": 324.953608,
     "end_time": "2024-01-10T17:04:53.577323",
     "exception": false,
     "start_time": "2024-01-10T16:59:28.623715",
     "status": "completed"
    },
    "tags": []
   },
   "outputs": [
    {
     "name": "stderr",
     "output_type": "stream",
     "text": [
      "/opt/conda/lib/python3.10/site-packages/scipy/__init__.py:146: UserWarning: A NumPy version >=1.16.5 and <1.23.0 is required for this version of SciPy (detected version 1.24.3\n",
      "  warnings.warn(f\"A NumPy version >={np_minversion} and <{np_maxversion}\"\n"
     ]
    },
    {
     "name": "stdout",
     "output_type": "stream",
     "text": [
      "epoch_0:\n",
      " training roc_auc_score 0.63121, training f1_score 0.55390, training acc 0.38303, training loss 0.81490 \n",
      " testing roc_auc_score 0.87222, testing f1_score 0.15254, testing acc 0.08257, testing loss 0.92642 \n",
      "----------------------------------\n",
      "epoch_1:\n",
      " training roc_auc_score 0.96636, training f1_score 0.55390, training acc 0.38303, training loss 0.68435 \n",
      " testing roc_auc_score 0.96222, testing f1_score 0.15254, testing acc 0.08257, testing loss 0.86668 \n",
      "----------------------------------\n",
      "epoch_2:\n",
      " training roc_auc_score 0.98455, training f1_score 0.55390, training acc 0.38303, training loss 0.60629 \n",
      " testing roc_auc_score 0.82333, testing f1_score 0.15254, testing acc 0.08257, testing loss 0.82143 \n",
      "----------------------------------\n",
      "epoch_3:\n",
      " training roc_auc_score 0.99884, training f1_score 0.55390, training acc 0.38303, training loss 0.71218 \n",
      " testing roc_auc_score 0.76500, testing f1_score 0.15254, testing acc 0.08257, testing loss 0.78206 \n",
      "----------------------------------\n",
      "epoch_4:\n",
      " training roc_auc_score 0.98471, training f1_score 0.55390, training acc 0.38303, training loss 0.67734 \n",
      " testing roc_auc_score 0.87667, testing f1_score 0.15254, testing acc 0.08257, testing loss 0.74212 \n",
      "----------------------------------\n",
      "epoch_5:\n",
      " training roc_auc_score 0.99001, training f1_score 0.57192, training acc 0.42661, training loss 0.56010 \n",
      " testing roc_auc_score 0.55556, testing f1_score 0.00000, testing acc 0.91743, testing loss 0.68793 \n",
      "----------------------------------\n",
      "epoch_6:\n",
      " training roc_auc_score 0.71847, training f1_score 0.60870, training acc 0.77294, training loss 0.66198 \n",
      " testing roc_auc_score 0.92944, testing f1_score 0.00000, testing acc 0.91743, testing loss 0.63805 \n",
      "----------------------------------\n",
      "epoch_7:\n",
      " training roc_auc_score 0.91334, training f1_score 0.00000, training acc 0.61697, training loss 0.68450 \n",
      " testing roc_auc_score 0.77778, testing f1_score 0.00000, testing acc 0.91743, testing loss 0.61016 \n",
      "----------------------------------\n",
      "epoch_8:\n",
      " training roc_auc_score 0.92958, training f1_score 0.00000, training acc 0.61697, training loss 0.63374 \n",
      " testing roc_auc_score 0.93611, testing f1_score 0.00000, testing acc 0.91743, testing loss 0.58351 \n",
      "----------------------------------\n",
      "epoch_9:\n",
      " training roc_auc_score 0.95206, training f1_score 0.00000, training acc 0.61697, training loss 0.68138 \n",
      " testing roc_auc_score 0.72222, testing f1_score 0.00000, testing acc 0.91743, testing loss 0.55569 \n",
      "----------------------------------\n",
      "epoch_10:\n",
      " training roc_auc_score 0.99204, training f1_score 0.00000, training acc 0.61697, training loss 0.60417 \n",
      " testing roc_auc_score 0.50000, testing f1_score 0.00000, testing acc 0.91743, testing loss 0.53493 \n",
      "----------------------------------\n",
      "epoch_11:\n",
      " training roc_auc_score 0.94738, training f1_score 0.00000, training acc 0.61697, training loss 0.57758 \n",
      " testing roc_auc_score 0.98222, testing f1_score 0.00000, testing acc 0.91743, testing loss 0.51665 \n",
      "----------------------------------\n",
      "epoch_12:\n",
      " training roc_auc_score 0.90486, training f1_score 0.65900, training acc 0.79587, training loss 0.47067 \n",
      " testing roc_auc_score 0.50000, testing f1_score 0.00000, testing acc 0.91743, testing loss 0.45436 \n",
      "----------------------------------\n",
      "epoch_13:\n",
      " training roc_auc_score 0.89110, training f1_score 0.86322, training acc 0.89679, training loss 0.36003 \n",
      " testing roc_auc_score 0.66667, testing f1_score 0.00000, testing acc 0.91743, testing loss 0.35323 \n",
      "----------------------------------\n",
      "epoch_14:\n",
      " training roc_auc_score 0.98000, training f1_score 0.95808, training acc 0.96789, training loss 0.52675 \n",
      " testing roc_auc_score 0.94056, testing f1_score 0.88889, testing acc 0.98165, testing loss 0.29546 \n",
      "----------------------------------\n",
      "epoch_15:\n",
      " training roc_auc_score 0.95349, training f1_score 0.95468, training acc 0.96560, training loss 0.25159 \n",
      " testing roc_auc_score 0.66667, testing f1_score 0.00000, testing acc 0.91743, testing loss 0.25153 \n",
      "----------------------------------\n",
      "epoch_16:\n",
      " training roc_auc_score 0.98083, training f1_score 0.96636, training acc 0.97477, training loss 0.21319 \n",
      " testing roc_auc_score 0.94000, testing f1_score 0.87500, testing acc 0.98165, testing loss 0.22039 \n",
      "----------------------------------\n",
      "epoch_17:\n",
      " training roc_auc_score 0.63504, training f1_score 0.66531, training acc 0.62156, training loss 1.28979 \n",
      " testing roc_auc_score 0.50000, testing f1_score 0.00000, testing acc 0.91743, testing loss 0.21082 \n",
      "----------------------------------\n",
      "epoch_18:\n",
      " training roc_auc_score 0.86616, training f1_score 0.85154, training acc 0.87844, training loss 0.59851 \n",
      " testing roc_auc_score 0.43000, testing f1_score 0.00000, testing acc 0.91743, testing loss 0.19820 \n",
      "----------------------------------\n",
      "epoch_19:\n",
      " training roc_auc_score 0.95202, training f1_score 0.91477, training acc 0.93119, training loss 0.22906 \n",
      " testing roc_auc_score 0.61111, testing f1_score 0.00000, testing acc 0.91743, testing loss 0.18267 \n",
      "----------------------------------\n",
      "epoch_20:\n",
      " training roc_auc_score 0.99659, training f1_score 0.99401, training acc 0.99541, training loss 0.18282 \n",
      " testing roc_auc_score 0.71667, testing f1_score 0.00000, testing acc 0.91743, testing loss 0.16427 \n",
      "----------------------------------\n",
      "epoch_21:\n",
      " training roc_auc_score 0.58385, training f1_score 0.15470, training acc 0.64908, training loss 0.97635 \n",
      " testing roc_auc_score 0.50000, testing f1_score 0.00000, testing acc 0.91743, testing loss 0.18853 \n",
      "----------------------------------\n",
      "epoch_22:\n",
      " training roc_auc_score 0.49809, training f1_score 0.00000, training acc 0.61697, training loss 0.56953 \n",
      " testing roc_auc_score 0.50000, testing f1_score 0.00000, testing acc 0.91743, testing loss 0.22454 \n",
      "----------------------------------\n",
      "epoch_23:\n",
      " training roc_auc_score 0.46225, training f1_score 0.00000, training acc 0.61697, training loss 0.86943 \n",
      " testing roc_auc_score 0.47500, testing f1_score 0.00000, testing acc 0.91743, testing loss 0.25856 \n",
      "----------------------------------\n",
      "epoch_24:\n",
      " training roc_auc_score 0.48527, training f1_score 0.00000, training acc 0.61697, training loss 0.28942 \n",
      " testing roc_auc_score 0.49000, testing f1_score 0.00000, testing acc 0.91743, testing loss 0.28977 \n",
      "----------------------------------\n",
      "epoch_25:\n",
      " training roc_auc_score 0.46738, training f1_score 0.00000, training acc 0.61697, training loss 0.31807 \n",
      " testing roc_auc_score 0.44444, testing f1_score 0.00000, testing acc 0.91743, testing loss 0.31836 \n",
      "----------------------------------\n",
      "epoch_26:\n",
      " training roc_auc_score 0.52196, training f1_score 0.00000, training acc 0.61697, training loss 0.78979 \n",
      " testing roc_auc_score 0.50000, testing f1_score 0.00000, testing acc 0.91743, testing loss 0.34360 \n",
      "----------------------------------\n",
      "epoch_27:\n",
      " training roc_auc_score 0.49802, training f1_score 0.00000, training acc 0.61697, training loss 0.77238 \n",
      " testing roc_auc_score 0.48500, testing f1_score 0.00000, testing acc 0.91743, testing loss 0.36951 \n",
      "----------------------------------\n",
      "epoch_28:\n",
      " training roc_auc_score 0.53993, training f1_score 0.00000, training acc 0.61697, training loss 0.76008 \n",
      " testing roc_auc_score 0.49500, testing f1_score 0.00000, testing acc 0.91743, testing loss 0.39079 \n",
      "----------------------------------\n",
      "epoch_29:\n",
      " training roc_auc_score 0.47674, training f1_score 0.00000, training acc 0.61697, training loss 0.58002 \n",
      " testing roc_auc_score 0.49000, testing f1_score 0.00000, testing acc 0.91743, testing loss 0.41096 \n",
      "----------------------------------\n"
     ]
    }
   ],
   "source": [
    "import random\n",
    "import os\n",
    "from sklearn.metrics import precision_score, recall_score, f1_score\n",
    "from sklearn.metrics import roc_auc_score\n",
    "\n",
    "\n",
    "def seed_everything(seed=42):\n",
    "    random.seed(seed)\n",
    "    os.environ['PYTHONHASHSEED'] = str(seed)\n",
    "    np.random.seed(seed)\n",
    "    torch.manual_seed(seed)\n",
    "    torch.cuda.manual_seed(seed)\n",
    "    torch.backends.cudnn.deterministic = True\n",
    "    torch.backends.cudnn.benchmark = False\n",
    "\n",
    "# 使用这个函数来设置一个全局种子\n",
    "seed_everything(42)\n",
    "\n",
    "# 初始化最佳性能指标\n",
    "least_eval_loss = 100\n",
    "\n",
    "for epoch in range(30):\n",
    "    model.train()\n",
    "    train_correct = 0\n",
    "    train_predict = []\n",
    "    train_label = []\n",
    "    train_predict_prob = []\n",
    "    for inputs, labels in trainLoader:\n",
    "        optimizer.zero_grad()\n",
    "        # 将数据输入模型\n",
    "        train_outputs = model(inputs.to(device))\n",
    "        _, train_predicted = torch.max(train_outputs, 1)\n",
    "        train_correct += sum(torch.argmax(train_outputs, dim=1) == labels)\n",
    "        # 计算损失\n",
    "        train_loss = criterion(train_outputs, labels.to(torch.long))\n",
    "        train_predict.extend(list(train_predicted.cpu().numpy()))\n",
    "        train_label.extend(list(labels.cpu().numpy()))\n",
    "        train_predict_prob.extend(train_outputs[:,1].cpu().detach().numpy())\n",
    "\n",
    "        # 反向传播和优化\n",
    "        train_loss.backward()\n",
    "        optimizer.step()\n",
    "\n",
    "    model.eval()\n",
    "    test_correct = 0\n",
    "    test_predict = []\n",
    "    test_label_list = []\n",
    "    test_predict_prob = []\n",
    "    with torch.no_grad():\n",
    "        for test_inputs, test_labels in testLoader:\n",
    "            test_outputs = model(test_inputs.to(device))\n",
    "            _, test_predicted = torch.max(test_outputs, 1)\n",
    "            test_loss = criterion(test_outputs, test_labels.to(torch.long))\n",
    "            test_correct += sum(test_predicted == test_labels)\n",
    "            test_predict.extend(list(test_predicted.cpu().numpy()))\n",
    "            test_label_list.extend(list(test_labels.cpu().numpy()))\n",
    "            test_predict_prob.extend(test_outputs[:,1].cpu().numpy())\n",
    "\n",
    "    # save best model\n",
    "    if test_loss < least_eval_loss and epoch > 10:\n",
    "        least_eval_loss = test_loss\n",
    "        torch.save(model.state_dict(), \n",
    "                   f'{epoch}_best_model_f1_{f1_score(test_label_list, test_predict):.3f}_auc_{roc_auc_score(train_label, train_predict_prob):.3f}.pth')\n",
    "\n",
    "\n",
    "    print(\n",
    "    f\"epoch_{epoch}:\\n\",\n",
    "    \"training roc_auc_score {:.5f},\".format(roc_auc_score(train_label, train_predict_prob)),\n",
    "    \"training f1_score {:.5f},\".format(f1_score(train_label, train_predict)),\n",
    "    \"training acc {:.5f},\".format(train_correct / len(trainLoader.dataset.data)),\n",
    "    \"training loss {:.5f}\".format(train_loss),\n",
    "    \"\\n\",\n",
    "    \"testing roc_auc_score {:.5f},\".format(roc_auc_score(test_label_list, test_predict_prob)),\n",
    "    \"testing f1_score {:.5f},\".format(f1_score(test_label_list, test_predict)),\n",
    "    \"testing acc {:.5f},\".format(test_correct / len(testLoader.dataset.data)),\n",
    "    \"testing loss {:.5f}\".format(test_loss),\n",
    "    \"\\n----------------------------------\"\n",
    "    )\n",
    "    \n",
    "         \n"
   ]
  }
 ],
 "metadata": {
  "kaggle": {
   "accelerator": "gpu",
   "dataSources": [
    {
     "datasetId": 4255503,
     "sourceId": 7330897,
     "sourceType": "datasetVersion"
    }
   ],
   "dockerImageVersionId": 30627,
   "isGpuEnabled": true,
   "isInternetEnabled": true,
   "language": "python",
   "sourceType": "notebook"
  },
  "kernelspec": {
   "display_name": "Python 3",
   "language": "python",
   "name": "python3"
  },
  "language_info": {
   "codemirror_mode": {
    "name": "ipython",
    "version": 3
   },
   "file_extension": ".py",
   "mimetype": "text/x-python",
   "name": "python",
   "nbconvert_exporter": "python",
   "pygments_lexer": "ipython3",
   "version": "3.10.12"
  },
  "papermill": {
   "default_parameters": {},
   "duration": 593.571767,
   "end_time": "2024-01-10T17:04:54.851523",
   "environment_variables": {},
   "exception": null,
   "input_path": "__notebook__.ipynb",
   "output_path": "__notebook__.ipynb",
   "parameters": {},
   "start_time": "2024-01-10T16:55:01.279756",
   "version": "2.4.0"
  }
 },
 "nbformat": 4,
 "nbformat_minor": 5
}
