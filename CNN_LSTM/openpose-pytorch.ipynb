{
 "metadata": {
  "kernelspec": {
   "language": "python",
   "display_name": "Python 3",
   "name": "python3"
  },
  "language_info": {
   "name": "python",
   "version": "3.7.10",
   "mimetype": "text/x-python",
   "codemirror_mode": {
    "name": "ipython",
    "version": 3
   },
   "pygments_lexer": "ipython3",
   "nbconvert_exporter": "python",
   "file_extension": ".py"
  },
  "kaggle": {
   "accelerator": "none",
   "dataSources": [
    {
     "sourceId": 2859699,
     "sourceType": "datasetVersion",
     "datasetId": 1750881
    },
    {
     "sourceId": 2859754,
     "sourceType": "datasetVersion",
     "datasetId": 1745137
    },
    {
     "sourceId": 7179838,
     "sourceType": "datasetVersion",
     "datasetId": 4149717
    },
    {
     "sourceId": 7330897,
     "sourceType": "datasetVersion",
     "datasetId": 4255503
    }
   ],
   "dockerImageVersionId": 30146,
   "isInternetEnabled": true,
   "language": "python",
   "sourceType": "notebook",
   "isGpuEnabled": false
  }
 },
 "nbformat_minor": 4,
 "nbformat": 4,
 "cells": [
  {
   "cell_type": "code",
   "source": [
    "!git clone https://github.com/Hzzone/pytorch-openpose\n",
    "%cd pytorch-openpose"
   ],
   "metadata": {
    "execution": {
     "iopub.status.busy": "2024-01-09T06:07:44.723005Z",
     "iopub.execute_input": "2024-01-09T06:07:44.723323Z",
     "iopub.status.idle": "2024-01-09T06:07:48.607680Z",
     "shell.execute_reply.started": "2024-01-09T06:07:44.723221Z",
     "shell.execute_reply": "2024-01-09T06:07:48.606518Z"
    },
    "trusted": true
   },
   "execution_count": null,
   "outputs": []
  },
  {
   "cell_type": "code",
   "source": [
    "import cv2\n",
    "import matplotlib.pyplot as plt\n",
    "import copy\n",
    "import numpy as np\n",
    "\n",
    "from src import model\n",
    "from src import util\n",
    "from src.body import Body\n",
    "from src.hand import Hand"
   ],
   "metadata": {
    "execution": {
     "iopub.status.busy": "2024-01-09T06:07:48.609949Z",
     "iopub.execute_input": "2024-01-09T06:07:48.610743Z",
     "iopub.status.idle": "2024-01-09T06:07:51.418418Z",
     "shell.execute_reply.started": "2024-01-09T06:07:48.610686Z",
     "shell.execute_reply": "2024-01-09T06:07:51.417576Z"
    },
    "trusted": true
   },
   "execution_count": null,
   "outputs": []
  },
  {
   "cell_type": "code",
   "source": [
    "from glob import glob\n",
    "import os"
   ],
   "metadata": {
    "execution": {
     "iopub.status.busy": "2024-01-09T06:07:51.419570Z",
     "iopub.execute_input": "2024-01-09T06:07:51.419797Z",
     "iopub.status.idle": "2024-01-09T06:07:51.423596Z",
     "shell.execute_reply.started": "2024-01-09T06:07:51.419768Z",
     "shell.execute_reply": "2024-01-09T06:07:51.422879Z"
    },
    "trusted": true
   },
   "execution_count": null,
   "outputs": []
  },
  {
   "cell_type": "code",
   "source": [
    "os.makedirs(\"/kaggle/working/OpenPoseDataet/test/test\")\n",
    "os.makedirs(\"/kaggle/working/OpenPoseDataet/train/train\")"
   ],
   "metadata": {
    "execution": {
     "iopub.status.busy": "2024-01-09T06:07:51.425185Z",
     "iopub.execute_input": "2024-01-09T06:07:51.425481Z",
     "iopub.status.idle": "2024-01-09T06:07:51.435353Z",
     "shell.execute_reply.started": "2024-01-09T06:07:51.425444Z",
     "shell.execute_reply": "2024-01-09T06:07:51.434630Z"
    },
    "trusted": true
   },
   "execution_count": null,
   "outputs": []
  },
  {
   "cell_type": "code",
   "source": [
    "## set Pretrained Models"
   ],
   "metadata": {
    "execution": {
     "iopub.status.busy": "2024-01-09T06:07:51.436362Z",
     "iopub.execute_input": "2024-01-09T06:07:51.436653Z",
     "iopub.status.idle": "2024-01-09T06:07:51.445095Z",
     "shell.execute_reply.started": "2024-01-09T06:07:51.436621Z",
     "shell.execute_reply": "2024-01-09T06:07:51.444310Z"
    },
    "trusted": true
   },
   "execution_count": null,
   "outputs": []
  },
  {
   "cell_type": "code",
   "source": [
    "!cp /kaggle/input/openpose-pretrained-models/body_pose_model.pth model\n",
    "!cp /kaggle/input/openpose-pretrained-models/hand_pose_model.pth model"
   ],
   "metadata": {
    "execution": {
     "iopub.status.busy": "2024-01-09T06:07:51.446170Z",
     "iopub.execute_input": "2024-01-09T06:07:51.446462Z",
     "iopub.status.idle": "2024-01-09T06:07:55.952728Z",
     "shell.execute_reply.started": "2024-01-09T06:07:51.446423Z",
     "shell.execute_reply": "2024-01-09T06:07:55.951815Z"
    },
    "trusted": true
   },
   "execution_count": null,
   "outputs": []
  },
  {
   "cell_type": "code",
   "source": [
    "body_estimation = Body('model/body_pose_model.pth')\n",
    "hand_estimation = Hand('model/hand_pose_model.pth')"
   ],
   "metadata": {
    "execution": {
     "iopub.status.busy": "2024-01-09T06:07:55.954195Z",
     "iopub.execute_input": "2024-01-09T06:07:55.954491Z",
     "iopub.status.idle": "2024-01-09T06:08:00.159151Z",
     "shell.execute_reply.started": "2024-01-09T06:07:55.954460Z",
     "shell.execute_reply": "2024-01-09T06:08:00.158298Z"
    },
    "trusted": true
   },
   "execution_count": null,
   "outputs": []
  },
  {
   "cell_type": "code",
   "source": [
    "from tqdm import tqdm"
   ],
   "metadata": {
    "execution": {
     "iopub.status.busy": "2024-01-09T06:08:00.160291Z",
     "iopub.execute_input": "2024-01-09T06:08:00.160534Z",
     "iopub.status.idle": "2024-01-09T06:08:00.164598Z",
     "shell.execute_reply.started": "2024-01-09T06:08:00.160504Z",
     "shell.execute_reply": "2024-01-09T06:08:00.163678Z"
    },
    "trusted": true
   },
   "execution_count": null,
   "outputs": []
  },
  {
   "cell_type": "code",
   "source": [
    "image = plt.imread('/kaggle/input/woa7015dataset/WOA7015Dataset/Valid/Hand/12_Row42Slice0/11.png')\n",
    "plt.imshow(image)"
   ],
   "metadata": {
    "execution": {
     "iopub.status.busy": "2023-12-28T11:40:55.316177Z",
     "iopub.execute_input": "2023-12-28T11:40:55.316958Z",
     "iopub.status.idle": "2023-12-28T11:40:55.829955Z",
     "shell.execute_reply.started": "2023-12-28T11:40:55.316912Z",
     "shell.execute_reply": "2023-12-28T11:40:55.829207Z"
    },
    "trusted": true
   },
   "execution_count": null,
   "outputs": []
  },
  {
   "cell_type": "code",
   "source": [
    "frames_list = glob('/kaggle/input/7015-dataset/*/*/*')\n",
    "pics_list = glob('/kaggle/input/7015-dataset/*/*/*')\n",
    "pics_list = set(pics_list)\n",
    "for framesPath in frames_list:\n",
    "    saveFramesPath = framesPath.replace(\"/kaggle/input/7015-dataset\",\"/kaggle/working/OpenPoseDataet\")\n",
    "    picsList = set(glob(framesPath + \"/*\"))\n",
    "    if not os.path.exists(saveFramesPath):\n",
    "        os.makedirs(saveFramesPath)\n",
    "    for picPath in tqdm(picsList):\n",
    "        savePicturePath = picPath.replace(\"/kaggle/input/7015-dataset\",\"/kaggle/working/OpenPoseDataet\")\n",
    "\n",
    "        image = cv2.imread(picPath)\n",
    "        zero_image = np.zeros(image.shape, dtype=np.uint8)\n",
    "        candidate, subset = body_estimation(image)\n",
    "        zero_image = util.draw_bodypose(zero_image, candidate, subset)\n",
    "\n",
    "        hands_list = util.handDetect(candidate, subset, image)\n",
    "        all_hand_peaks = []\n",
    "        for x, y, w, is_left in hands_list:\n",
    "            peaks = hand_estimation(image[y:y+w, x:x+w, :])\n",
    "            peaks[:, 0] = np.where(peaks[:, 0]==0, peaks[:, 0], peaks[:, 0]+x)\n",
    "            peaks[:, 1] = np.where(peaks[:, 1]==0, peaks[:, 1], peaks[:, 1]+y)\n",
    "            all_hand_peaks.append(peaks)\n",
    "        zero_image = util.draw_handpose(zero_image, all_hand_peaks)\n",
    "        plt.imsave(savePicturePath, zero_image)"
   ],
   "metadata": {
    "execution": {
     "iopub.status.busy": "2024-01-09T06:08:57.103022Z",
     "iopub.execute_input": "2024-01-09T06:08:57.103691Z",
     "iopub.status.idle": "2024-01-09T13:14:42.975657Z",
     "shell.execute_reply.started": "2024-01-09T06:08:57.103648Z",
     "shell.execute_reply": "2024-01-09T13:14:42.974931Z"
    },
    "trusted": true
   },
   "execution_count": null,
   "outputs": []
  }
 ]
}
